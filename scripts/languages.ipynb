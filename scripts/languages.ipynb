{
 "cells": [
  {
   "cell_type": "code",
   "execution_count": null,
   "metadata": {},
   "outputs": [],
   "source": [
    "import sys\n",
    "sys.path.append('../')\n",
    "import pandas as pd\n",
    "from tqdm.auto import tqdm\n",
    "tqdm.pandas()\n",
    "from coreLib.languages import languages\n",
    "from coreLib.utils import GraphemeParser\n",
    "languages.keys() "
   ]
  },
  {
   "cell_type": "markdown",
   "metadata": {},
   "source": [
    "# Select a language except bangla"
   ]
  },
  {
   "cell_type": "code",
   "execution_count": null,
   "metadata": {},
   "outputs": [],
   "source": [
    "lang ='odiya'"
   ]
  },
  {
   "cell_type": "code",
   "execution_count": null,
   "metadata": {},
   "outputs": [],
   "source": [
    "def lambda_unique(list_of_lists):\n",
    "    data=[]\n",
    "    for _list in list_of_lists:\n",
    "        if _list is not None and len(_list)>0:\n",
    "            for c in _list:\n",
    "                if c not in data:\n",
    "                    data.append(c)\n",
    "    data=sorted(data)\n",
    "    return data\n",
    "def long_print(data):\n",
    "    for idx,d in enumerate(data):\n",
    "        print(f\"'{d}'\",end=\",\")\n",
    "        if idx%20==0:\n",
    "            print()"
   ]
  },
  {
   "cell_type": "code",
   "execution_count": null,
   "metadata": {},
   "outputs": [],
   "source": [
    "GP=GraphemeParser(languages[lang])\n",
    "with open(f\"../vocabs/{lang}.txt\",\"r\") as f:\n",
    "    words=f.readlines()\n",
    "words=[word.strip() for word in words]\n",
    "df=pd.DataFrame({\"word\":words})\n",
    "df"
   ]
  },
  {
   "cell_type": "code",
   "execution_count": null,
   "metadata": {},
   "outputs": [],
   "source": [
    "\n",
    "df[\"unicodes\"]=df.word.progress_apply(lambda x:[ch for ch in x])\n",
    "print(\"unique unicodes\")\n",
    "unicodes=lambda_unique (df.unicodes.tolist())\n",
    "long_print(unicodes)\n"
   ]
  },
  {
   "cell_type": "code",
   "execution_count": null,
   "metadata": {},
   "outputs": [],
   "source": [
    "df[\"components\"]=df.word.progress_apply(lambda x: GP.process(x))\n",
    "print(\"unique components:grapheme roots,diacs\")\n",
    "components=lambda_unique (df.components.tolist())\n",
    "long_print(components)"
   ]
  },
  {
   "cell_type": "code",
   "execution_count": null,
   "metadata": {},
   "outputs": [],
   "source": [
    "df[\"graphemes\"]=df.word.progress_apply(lambda x: GP.process(x,return_graphemes=True))\n",
    "print(\"unique graphemes: pure graphemes\")\n",
    "graphemes=lambda_unique (df.graphemes.tolist())\n",
    "long_print(graphemes)"
   ]
  },
  {
   "cell_type": "code",
   "execution_count": null,
   "metadata": {},
   "outputs": [],
   "source": []
  }
 ],
 "metadata": {
  "interpreter": {
   "hash": "126373ade96202fc0d209e372d1dbf9a23bda23100911a41154f9dda3225d3ce"
  },
  "kernelspec": {
   "display_name": "bangla",
   "language": "python",
   "name": "bangla"
  },
  "language_info": {
   "codemirror_mode": {
    "name": "ipython",
    "version": 3
   },
   "file_extension": ".py",
   "mimetype": "text/x-python",
   "name": "python",
   "nbconvert_exporter": "python",
   "pygments_lexer": "ipython3",
   "version": "3.8.5"
  }
 },
 "nbformat": 4,
 "nbformat_minor": 4
}
