{
 "cells": [
  {
   "cell_type": "markdown",
   "metadata": {},
   "source": [
    "## **The data_paths should all contain:** \n",
    "* images folder\n",
    "* data.csv"
   ]
  },
  {
   "cell_type": "code",
   "execution_count": 14,
   "metadata": {},
   "outputs": [],
   "source": [
    "data_paths=[\n",
    "    \"/media/ansary/DriveData/Work/bengalAI/datasets/Recognition/source/bh/\",\n",
    "    \"/media/ansary/DriveData/Work/bengalAI/datasets/Recognition/source/bw/\",\n",
    "    \"/media/ansary/DriveData/Work/bengalAI/datasets/Recognition/source/bs/\"\n",
    "    ]\n",
    "\n"
   ]
  },
  {
   "cell_type": "code",
   "execution_count": 15,
   "metadata": {},
   "outputs": [
    {
     "data": {
      "application/vnd.jupyter.widget-view+json": {
       "model_id": "359f19535a13424d961082b08c253f22",
       "version_major": 2,
       "version_minor": 0
      },
      "text/plain": [
       "  0%|          | 0/3 [00:00<?, ?it/s]"
      ]
     },
     "metadata": {},
     "output_type": "display_data"
    }
   ],
   "source": [
    "#----------------------\n",
    "# imports\n",
    "#----------------------\n",
    "import os\n",
    "import pandas as pd\n",
    "from glob import glob\n",
    "from tqdm.auto import tqdm\n",
    "from ast import literal_eval\n",
    "tqdm.pandas()\n",
    "#----------------------\n",
    "# error check\n",
    "#----------------------\n",
    "for data_path in tqdm(data_paths):\n",
    "    assert os.path.exists(os.path.join(data_path,\"images\"))\n",
    "    assert os.path.exists(os.path.join(data_path,\"data.csv\"))\n",
    "    "
   ]
  },
  {
   "cell_type": "code",
   "execution_count": 19,
   "metadata": {},
   "outputs": [
    {
     "data": {
      "application/vnd.jupyter.widget-view+json": {
       "model_id": "dccf40faa1cf48df8ce07bb889df665b",
       "version_major": 2,
       "version_minor": 0
      },
      "text/plain": [
       "  0%|          | 0/3 [00:00<?, ?it/s]"
      ]
     },
     "metadata": {},
     "output_type": "display_data"
    },
    {
     "data": {
      "application/vnd.jupyter.widget-view+json": {
       "model_id": "103042108c10418293b3a82d233908a7",
       "version_major": 2,
       "version_minor": 0
      },
      "text/plain": [
       "  0%|          | 0/104582 [00:00<?, ?it/s]"
      ]
     },
     "metadata": {},
     "output_type": "display_data"
    },
    {
     "data": {
      "application/vnd.jupyter.widget-view+json": {
       "model_id": "be52b24c7cf44f00937309b33bb3d206",
       "version_major": 2,
       "version_minor": 0
      },
      "text/plain": [
       "  0%|          | 0/21195 [00:00<?, ?it/s]"
      ]
     },
     "metadata": {},
     "output_type": "display_data"
    },
    {
     "data": {
      "application/vnd.jupyter.widget-view+json": {
       "model_id": "7e1add7b229f45c59bc9b60506b1cb8b",
       "version_major": 2,
       "version_minor": 0
      },
      "text/plain": [
       "  0%|          | 0/59704 [00:00<?, ?it/s]"
      ]
     },
     "metadata": {},
     "output_type": "display_data"
    },
    {
     "data": {
      "text/html": [
       "<div>\n",
       "<style scoped>\n",
       "    .dataframe tbody tr th:only-of-type {\n",
       "        vertical-align: middle;\n",
       "    }\n",
       "\n",
       "    .dataframe tbody tr th {\n",
       "        vertical-align: top;\n",
       "    }\n",
       "\n",
       "    .dataframe thead th {\n",
       "        text-align: right;\n",
       "    }\n",
       "</style>\n",
       "<table border=\"1\" class=\"dataframe\">\n",
       "  <thead>\n",
       "    <tr style=\"text-align: right;\">\n",
       "      <th></th>\n",
       "      <th>word</th>\n",
       "      <th>graphemes</th>\n",
       "    </tr>\n",
       "  </thead>\n",
       "  <tbody>\n",
       "    <tr>\n",
       "      <th>0</th>\n",
       "      <td>মূল্যবান</td>\n",
       "      <td>[মূ, ল্য, বা, ন]</td>\n",
       "    </tr>\n",
       "    <tr>\n",
       "      <th>1</th>\n",
       "      <td>যেতে</td>\n",
       "      <td>[যে, তে]</td>\n",
       "    </tr>\n",
       "    <tr>\n",
       "      <th>2</th>\n",
       "      <td>এর</td>\n",
       "      <td>[এ, র]</td>\n",
       "    </tr>\n",
       "    <tr>\n",
       "      <th>3</th>\n",
       "      <td>-</td>\n",
       "      <td>[-]</td>\n",
       "    </tr>\n",
       "    <tr>\n",
       "      <th>4</th>\n",
       "      <td>।</td>\n",
       "      <td>[।]</td>\n",
       "    </tr>\n",
       "    <tr>\n",
       "      <th>...</th>\n",
       "      <td>...</td>\n",
       "      <td>...</td>\n",
       "    </tr>\n",
       "    <tr>\n",
       "      <th>185476</th>\n",
       "      <td>ব্রাহ্মণ</td>\n",
       "      <td>[ব্রা, হ্ম, ণ]</td>\n",
       "    </tr>\n",
       "    <tr>\n",
       "      <th>185477</th>\n",
       "      <td>আহ্লাদ</td>\n",
       "      <td>[আ, হ্লা, দ]</td>\n",
       "    </tr>\n",
       "    <tr>\n",
       "      <th>185478</th>\n",
       "      <td>বাক্স</td>\n",
       "      <td>[বা, ক্স]</td>\n",
       "    </tr>\n",
       "    <tr>\n",
       "      <th>185479</th>\n",
       "      <td>গ্রীষ্ম</td>\n",
       "      <td>[গ্রী, ষ্ম]</td>\n",
       "    </tr>\n",
       "    <tr>\n",
       "      <th>185480</th>\n",
       "      <td>পশ্চিমবন্দঁ</td>\n",
       "      <td>[প, শ্চি, ম, ব, ন্দঁ]</td>\n",
       "    </tr>\n",
       "  </tbody>\n",
       "</table>\n",
       "<p>185481 rows × 2 columns</p>\n",
       "</div>"
      ],
      "text/plain": [
       "               word              graphemes\n",
       "0          মূল্যবান       [মূ, ল্য, বা, ন]\n",
       "1              যেতে               [যে, তে]\n",
       "2                এর                 [এ, র]\n",
       "3                 -                    [-]\n",
       "4                 ।                    [।]\n",
       "...             ...                    ...\n",
       "185476     ব্রাহ্মণ         [ব্রা, হ্ম, ণ]\n",
       "185477       আহ্লাদ           [আ, হ্লা, দ]\n",
       "185478        বাক্স              [বা, ক্স]\n",
       "185479      গ্রীষ্ম            [গ্রী, ষ্ম]\n",
       "185480  পশ্চিমবন্দঁ  [প, শ্চি, ম, ব, ন্দঁ]\n",
       "\n",
       "[185481 rows x 2 columns]"
      ]
     },
     "execution_count": 19,
     "metadata": {},
     "output_type": "execute_result"
    }
   ],
   "source": [
    "dfs=[]\n",
    "for data_path in tqdm(data_paths):\n",
    "    csv_path=os.path.join(data_path,\"data.csv\")\n",
    "    df=pd.read_csv(csv_path)\n",
    "    df=df[[\"word\",\"graphemes\"]]\n",
    "    df.graphemes=df.graphemes.progress_apply(lambda x : literal_eval(x))\n",
    "    dfs.append(df)\n",
    "    \n",
    "df=pd.concat(dfs,ignore_index=True)\n",
    "df"
   ]
  },
  {
   "cell_type": "code",
   "execution_count": 20,
   "metadata": {},
   "outputs": [
    {
     "data": {
      "application/vnd.jupyter.widget-view+json": {
       "model_id": "95b24be17cd04d1390e9eaf0a6bb7209",
       "version_major": 2,
       "version_minor": 0
      },
      "text/plain": [
       "  0%|          | 0/185481 [00:00<?, ?it/s]"
      ]
     },
     "metadata": {},
     "output_type": "display_data"
    },
    {
     "data": {
      "application/vnd.jupyter.widget-view+json": {
       "model_id": "cae120f07b884e6d9bd26d53ab1a08ca",
       "version_major": 2,
       "version_minor": 0
      },
      "text/plain": [
       "  0%|          | 0/185481 [00:00<?, ?it/s]"
      ]
     },
     "metadata": {},
     "output_type": "display_data"
    },
    {
     "data": {
      "application/vnd.jupyter.widget-view+json": {
       "model_id": "08577becda114525b5f05a8ccc819268",
       "version_major": 2,
       "version_minor": 0
      },
      "text/plain": [
       "  0%|          | 0/185481 [00:00<?, ?it/s]"
      ]
     },
     "metadata": {},
     "output_type": "display_data"
    },
    {
     "data": {
      "text/html": [
       "<div>\n",
       "<style scoped>\n",
       "    .dataframe tbody tr th:only-of-type {\n",
       "        vertical-align: middle;\n",
       "    }\n",
       "\n",
       "    .dataframe tbody tr th {\n",
       "        vertical-align: top;\n",
       "    }\n",
       "\n",
       "    .dataframe thead th {\n",
       "        text-align: right;\n",
       "    }\n",
       "</style>\n",
       "<table border=\"1\" class=\"dataframe\">\n",
       "  <thead>\n",
       "    <tr style=\"text-align: right;\">\n",
       "      <th></th>\n",
       "      <th>word</th>\n",
       "      <th>graphemes</th>\n",
       "      <th>chars</th>\n",
       "      <th>glabel_len</th>\n",
       "      <th>clabel_len</th>\n",
       "    </tr>\n",
       "  </thead>\n",
       "  <tbody>\n",
       "    <tr>\n",
       "      <th>0</th>\n",
       "      <td>মূল্যবান</td>\n",
       "      <td>[মূ, ল্য, বা, ন]</td>\n",
       "      <td>[ম, ূ, ল, ্, য, ব, া, ন]</td>\n",
       "      <td>4</td>\n",
       "      <td>8</td>\n",
       "    </tr>\n",
       "    <tr>\n",
       "      <th>1</th>\n",
       "      <td>যেতে</td>\n",
       "      <td>[যে, তে]</td>\n",
       "      <td>[য, ে, ত, ে]</td>\n",
       "      <td>2</td>\n",
       "      <td>4</td>\n",
       "    </tr>\n",
       "    <tr>\n",
       "      <th>2</th>\n",
       "      <td>এর</td>\n",
       "      <td>[এ, র]</td>\n",
       "      <td>[এ, র]</td>\n",
       "      <td>2</td>\n",
       "      <td>2</td>\n",
       "    </tr>\n",
       "    <tr>\n",
       "      <th>3</th>\n",
       "      <td>-</td>\n",
       "      <td>[-]</td>\n",
       "      <td>[-]</td>\n",
       "      <td>1</td>\n",
       "      <td>1</td>\n",
       "    </tr>\n",
       "    <tr>\n",
       "      <th>4</th>\n",
       "      <td>।</td>\n",
       "      <td>[।]</td>\n",
       "      <td>[।]</td>\n",
       "      <td>1</td>\n",
       "      <td>1</td>\n",
       "    </tr>\n",
       "    <tr>\n",
       "      <th>...</th>\n",
       "      <td>...</td>\n",
       "      <td>...</td>\n",
       "      <td>...</td>\n",
       "      <td>...</td>\n",
       "      <td>...</td>\n",
       "    </tr>\n",
       "    <tr>\n",
       "      <th>185476</th>\n",
       "      <td>ব্রাহ্মণ</td>\n",
       "      <td>[ব্রা, হ্ম, ণ]</td>\n",
       "      <td>[ব, ্, র, া, হ, ্, ম, ণ]</td>\n",
       "      <td>3</td>\n",
       "      <td>8</td>\n",
       "    </tr>\n",
       "    <tr>\n",
       "      <th>185477</th>\n",
       "      <td>আহ্লাদ</td>\n",
       "      <td>[আ, হ্লা, দ]</td>\n",
       "      <td>[আ, হ, ্, ল, া, দ]</td>\n",
       "      <td>3</td>\n",
       "      <td>6</td>\n",
       "    </tr>\n",
       "    <tr>\n",
       "      <th>185478</th>\n",
       "      <td>বাক্স</td>\n",
       "      <td>[বা, ক্স]</td>\n",
       "      <td>[ব, া, ক, ্, স]</td>\n",
       "      <td>2</td>\n",
       "      <td>5</td>\n",
       "    </tr>\n",
       "    <tr>\n",
       "      <th>185479</th>\n",
       "      <td>গ্রীষ্ম</td>\n",
       "      <td>[গ্রী, ষ্ম]</td>\n",
       "      <td>[গ, ্, র, ী, ষ, ্, ম]</td>\n",
       "      <td>2</td>\n",
       "      <td>7</td>\n",
       "    </tr>\n",
       "    <tr>\n",
       "      <th>185480</th>\n",
       "      <td>পশ্চিমবন্দঁ</td>\n",
       "      <td>[প, শ্চি, ম, ব, ন্দঁ]</td>\n",
       "      <td>[প, শ, ্, চ, ি, ম, ব, ন, ্, দ, ঁ]</td>\n",
       "      <td>5</td>\n",
       "      <td>11</td>\n",
       "    </tr>\n",
       "  </tbody>\n",
       "</table>\n",
       "<p>185481 rows × 5 columns</p>\n",
       "</div>"
      ],
      "text/plain": [
       "               word              graphemes                              chars  \\\n",
       "0          মূল্যবান       [মূ, ল্য, বা, ন]           [ম, ূ, ল, ্, য, ব, া, ন]   \n",
       "1              যেতে               [যে, তে]                       [য, ে, ত, ে]   \n",
       "2                এর                 [এ, র]                             [এ, র]   \n",
       "3                 -                    [-]                                [-]   \n",
       "4                 ।                    [।]                                [।]   \n",
       "...             ...                    ...                                ...   \n",
       "185476     ব্রাহ্মণ         [ব্রা, হ্ম, ণ]           [ব, ্, র, া, হ, ্, ম, ণ]   \n",
       "185477       আহ্লাদ           [আ, হ্লা, দ]                 [আ, হ, ্, ল, া, দ]   \n",
       "185478        বাক্স              [বা, ক্স]                    [ব, া, ক, ্, স]   \n",
       "185479      গ্রীষ্ম            [গ্রী, ষ্ম]              [গ, ্, র, ী, ষ, ্, ম]   \n",
       "185480  পশ্চিমবন্দঁ  [প, শ্চি, ম, ব, ন্দঁ]  [প, শ, ্, চ, ি, ম, ব, ন, ্, দ, ঁ]   \n",
       "\n",
       "        glabel_len  clabel_len  \n",
       "0                4           8  \n",
       "1                2           4  \n",
       "2                2           2  \n",
       "3                1           1  \n",
       "4                1           1  \n",
       "...            ...         ...  \n",
       "185476           3           8  \n",
       "185477           3           6  \n",
       "185478           2           5  \n",
       "185479           2           7  \n",
       "185480           5          11  \n",
       "\n",
       "[185481 rows x 5 columns]"
      ]
     },
     "execution_count": 20,
     "metadata": {},
     "output_type": "execute_result"
    }
   ],
   "source": [
    "df[\"chars\"]=df.graphemes.progress_apply(lambda x: [i for i in \"\".join(x)])\n",
    "df[\"glabel_len\"]=df.graphemes.progress_apply(lambda x: len(x))\n",
    "df[\"clabel_len\"]=df.chars.progress_apply(lambda x: len(x))\n",
    "df"
   ]
  },
  {
   "cell_type": "code",
   "execution_count": 21,
   "metadata": {},
   "outputs": [
    {
     "name": "stdout",
     "output_type": "stream",
     "text": [
      "Max glabel len:36\n",
      "Max clabel len:62\n"
     ]
    }
   ],
   "source": [
    "print(f\"Max glabel len:{max(df.glabel_len.tolist())}\")\n",
    "print(f\"Max clabel len:{max(df.clabel_len.tolist())}\")"
   ]
  },
  {
   "cell_type": "code",
   "execution_count": 22,
   "metadata": {},
   "outputs": [
    {
     "data": {
      "text/html": [
       "<div>\n",
       "<style scoped>\n",
       "    .dataframe tbody tr th:only-of-type {\n",
       "        vertical-align: middle;\n",
       "    }\n",
       "\n",
       "    .dataframe tbody tr th {\n",
       "        vertical-align: top;\n",
       "    }\n",
       "\n",
       "    .dataframe thead th {\n",
       "        text-align: right;\n",
       "    }\n",
       "</style>\n",
       "<table border=\"1\" class=\"dataframe\">\n",
       "  <thead>\n",
       "    <tr style=\"text-align: right;\">\n",
       "      <th></th>\n",
       "      <th>word</th>\n",
       "      <th>graphemes</th>\n",
       "      <th>chars</th>\n",
       "      <th>glabel_len</th>\n",
       "      <th>clabel_len</th>\n",
       "    </tr>\n",
       "  </thead>\n",
       "  <tbody>\n",
       "    <tr>\n",
       "      <th>9</th>\n",
       "      <td>জয়েন</td>\n",
       "      <td>[জ, য়ে, ন]</td>\n",
       "      <td>[জ, য়, ে, ন]</td>\n",
       "      <td>3</td>\n",
       "      <td>4</td>\n",
       "    </tr>\n",
       "    <tr>\n",
       "      <th>11</th>\n",
       "      <td>ব্রত</td>\n",
       "      <td>[ব্র, ত]</td>\n",
       "      <td>[ব, ্, র, ত]</td>\n",
       "      <td>2</td>\n",
       "      <td>4</td>\n",
       "    </tr>\n",
       "    <tr>\n",
       "      <th>15</th>\n",
       "      <td>গ্রন্থমেলা</td>\n",
       "      <td>[গ্র, ন্থ, মে, লা]</td>\n",
       "      <td>[গ, ্, র, ন, ্, থ, ম, ে, ল, া]</td>\n",
       "      <td>4</td>\n",
       "      <td>10</td>\n",
       "    </tr>\n",
       "    <tr>\n",
       "      <th>18</th>\n",
       "      <td>নির্বাক</td>\n",
       "      <td>[নি, র্বা, ক]</td>\n",
       "      <td>[ন, ি, র, ্, ব, া, ক]</td>\n",
       "      <td>3</td>\n",
       "      <td>7</td>\n",
       "    </tr>\n",
       "    <tr>\n",
       "      <th>22</th>\n",
       "      <td>সত্তার</td>\n",
       "      <td>[স, ত্তা, র]</td>\n",
       "      <td>[স, ত, ্, ত, া, র]</td>\n",
       "      <td>3</td>\n",
       "      <td>6</td>\n",
       "    </tr>\n",
       "    <tr>\n",
       "      <th>...</th>\n",
       "      <td>...</td>\n",
       "      <td>...</td>\n",
       "      <td>...</td>\n",
       "      <td>...</td>\n",
       "      <td>...</td>\n",
       "    </tr>\n",
       "    <tr>\n",
       "      <th>185476</th>\n",
       "      <td>ব্রাহ্মণ</td>\n",
       "      <td>[ব্রা, হ্ম, ণ]</td>\n",
       "      <td>[ব, ্, র, া, হ, ্, ম, ণ]</td>\n",
       "      <td>3</td>\n",
       "      <td>8</td>\n",
       "    </tr>\n",
       "    <tr>\n",
       "      <th>185477</th>\n",
       "      <td>আহ্লাদ</td>\n",
       "      <td>[আ, হ্লা, দ]</td>\n",
       "      <td>[আ, হ, ্, ল, া, দ]</td>\n",
       "      <td>3</td>\n",
       "      <td>6</td>\n",
       "    </tr>\n",
       "    <tr>\n",
       "      <th>185478</th>\n",
       "      <td>বাক্স</td>\n",
       "      <td>[বা, ক্স]</td>\n",
       "      <td>[ব, া, ক, ্, স]</td>\n",
       "      <td>2</td>\n",
       "      <td>5</td>\n",
       "    </tr>\n",
       "    <tr>\n",
       "      <th>185479</th>\n",
       "      <td>গ্রীষ্ম</td>\n",
       "      <td>[গ্রী, ষ্ম]</td>\n",
       "      <td>[গ, ্, র, ী, ষ, ্, ম]</td>\n",
       "      <td>2</td>\n",
       "      <td>7</td>\n",
       "    </tr>\n",
       "    <tr>\n",
       "      <th>185480</th>\n",
       "      <td>পশ্চিমবন্দঁ</td>\n",
       "      <td>[প, শ্চি, ম, ব, ন্দঁ]</td>\n",
       "      <td>[প, শ, ্, চ, ি, ম, ব, ন, ্, দ, ঁ]</td>\n",
       "      <td>5</td>\n",
       "      <td>11</td>\n",
       "    </tr>\n",
       "  </tbody>\n",
       "</table>\n",
       "<p>17431 rows × 5 columns</p>\n",
       "</div>"
      ],
      "text/plain": [
       "               word              graphemes                              chars  \\\n",
       "9              জয়েন             [জ, য়ে, ন]                       [জ, য়, ে, ন]   \n",
       "11             ব্রত               [ব্র, ত]                       [ব, ্, র, ত]   \n",
       "15       গ্রন্থমেলা     [গ্র, ন্থ, মে, লা]     [গ, ্, র, ন, ্, থ, ম, ে, ল, া]   \n",
       "18          নির্বাক          [নি, র্বা, ক]              [ন, ি, র, ্, ব, া, ক]   \n",
       "22           সত্তার           [স, ত্তা, র]                 [স, ত, ্, ত, া, র]   \n",
       "...             ...                    ...                                ...   \n",
       "185476     ব্রাহ্মণ         [ব্রা, হ্ম, ণ]           [ব, ্, র, া, হ, ্, ম, ণ]   \n",
       "185477       আহ্লাদ           [আ, হ্লা, দ]                 [আ, হ, ্, ল, া, দ]   \n",
       "185478        বাক্স              [বা, ক্স]                    [ব, া, ক, ্, স]   \n",
       "185479      গ্রীষ্ম            [গ্রী, ষ্ম]              [গ, ্, র, ী, ষ, ্, ম]   \n",
       "185480  পশ্চিমবন্দঁ  [প, শ্চি, ম, ব, ন্দঁ]  [প, শ, ্, চ, ি, ম, ব, ন, ্, দ, ঁ]   \n",
       "\n",
       "        glabel_len  clabel_len  \n",
       "9                3           4  \n",
       "11               2           4  \n",
       "15               4          10  \n",
       "18               3           7  \n",
       "22               3           6  \n",
       "...            ...         ...  \n",
       "185476           3           8  \n",
       "185477           3           6  \n",
       "185478           2           5  \n",
       "185479           2           7  \n",
       "185480           5          11  \n",
       "\n",
       "[17431 rows x 5 columns]"
      ]
     },
     "execution_count": 22,
     "metadata": {},
     "output_type": "execute_result"
    }
   ],
   "source": [
    "df=df.drop_duplicates(subset='word', keep=\"last\")\n",
    "df\n"
   ]
  },
  {
   "cell_type": "code",
   "execution_count": 23,
   "metadata": {},
   "outputs": [
    {
     "data": {
      "text/html": [
       "<div>\n",
       "<style scoped>\n",
       "    .dataframe tbody tr th:only-of-type {\n",
       "        vertical-align: middle;\n",
       "    }\n",
       "\n",
       "    .dataframe tbody tr th {\n",
       "        vertical-align: top;\n",
       "    }\n",
       "\n",
       "    .dataframe thead th {\n",
       "        text-align: right;\n",
       "    }\n",
       "</style>\n",
       "<table border=\"1\" class=\"dataframe\">\n",
       "  <thead>\n",
       "    <tr style=\"text-align: right;\">\n",
       "      <th></th>\n",
       "      <th>word</th>\n",
       "      <th>graphemes</th>\n",
       "    </tr>\n",
       "  </thead>\n",
       "  <tbody>\n",
       "    <tr>\n",
       "      <th>9</th>\n",
       "      <td>জয়েন</td>\n",
       "      <td>[জ, য়ে, ন]</td>\n",
       "    </tr>\n",
       "    <tr>\n",
       "      <th>11</th>\n",
       "      <td>ব্রত</td>\n",
       "      <td>[ব্র, ত]</td>\n",
       "    </tr>\n",
       "    <tr>\n",
       "      <th>15</th>\n",
       "      <td>গ্রন্থমেলা</td>\n",
       "      <td>[গ্র, ন্থ, মে, লা]</td>\n",
       "    </tr>\n",
       "    <tr>\n",
       "      <th>18</th>\n",
       "      <td>নির্বাক</td>\n",
       "      <td>[নি, র্বা, ক]</td>\n",
       "    </tr>\n",
       "    <tr>\n",
       "      <th>22</th>\n",
       "      <td>সত্তার</td>\n",
       "      <td>[স, ত্তা, র]</td>\n",
       "    </tr>\n",
       "    <tr>\n",
       "      <th>...</th>\n",
       "      <td>...</td>\n",
       "      <td>...</td>\n",
       "    </tr>\n",
       "    <tr>\n",
       "      <th>185476</th>\n",
       "      <td>ব্রাহ্মণ</td>\n",
       "      <td>[ব্রা, হ্ম, ণ]</td>\n",
       "    </tr>\n",
       "    <tr>\n",
       "      <th>185477</th>\n",
       "      <td>আহ্লাদ</td>\n",
       "      <td>[আ, হ্লা, দ]</td>\n",
       "    </tr>\n",
       "    <tr>\n",
       "      <th>185478</th>\n",
       "      <td>বাক্স</td>\n",
       "      <td>[বা, ক্স]</td>\n",
       "    </tr>\n",
       "    <tr>\n",
       "      <th>185479</th>\n",
       "      <td>গ্রীষ্ম</td>\n",
       "      <td>[গ্রী, ষ্ম]</td>\n",
       "    </tr>\n",
       "    <tr>\n",
       "      <th>185480</th>\n",
       "      <td>পশ্চিমবন্দঁ</td>\n",
       "      <td>[প, শ্চি, ম, ব, ন্দঁ]</td>\n",
       "    </tr>\n",
       "  </tbody>\n",
       "</table>\n",
       "<p>17431 rows × 2 columns</p>\n",
       "</div>"
      ],
      "text/plain": [
       "               word              graphemes\n",
       "9              জয়েন             [জ, য়ে, ন]\n",
       "11             ব্রত               [ব্র, ত]\n",
       "15       গ্রন্থমেলা     [গ্র, ন্থ, মে, লা]\n",
       "18          নির্বাক          [নি, র্বা, ক]\n",
       "22           সত্তার           [স, ত্তা, র]\n",
       "...             ...                    ...\n",
       "185476     ব্রাহ্মণ         [ব্রা, হ্ম, ণ]\n",
       "185477       আহ্লাদ           [আ, হ্লা, দ]\n",
       "185478        বাক্স              [বা, ক্স]\n",
       "185479      গ্রীষ্ম            [গ্রী, ষ্ম]\n",
       "185480  পশ্চিমবন্দঁ  [প, শ্চি, ম, ব, ন্দঁ]\n",
       "\n",
       "[17431 rows x 2 columns]"
      ]
     },
     "execution_count": 23,
     "metadata": {},
     "output_type": "execute_result"
    }
   ],
   "source": [
    "df=df[[\"word\",\"graphemes\"]]\n",
    "df"
   ]
  },
  {
   "cell_type": "code",
   "execution_count": 12,
   "metadata": {},
   "outputs": [],
   "source": [
    "df.to_csv(\"../dictionary.csv\",index=False)"
   ]
  },
  {
   "cell_type": "code",
   "execution_count": null,
   "metadata": {},
   "outputs": [],
   "source": []
  }
 ],
 "metadata": {
  "kernelspec": {
   "display_name": "bangla",
   "language": "python",
   "name": "bangla"
  },
  "language_info": {
   "codemirror_mode": {
    "name": "ipython",
    "version": 3
   },
   "file_extension": ".py",
   "mimetype": "text/x-python",
   "name": "python",
   "nbconvert_exporter": "python",
   "pygments_lexer": "ipython3",
   "version": "3.8.5"
  }
 },
 "nbformat": 4,
 "nbformat_minor": 4
}
