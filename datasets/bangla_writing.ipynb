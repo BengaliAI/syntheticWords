{
 "cells": [
  {
   "cell_type": "markdown",
   "metadata": {},
   "source": [
    "## Set the following params correctly\n",
    "* **data_path**  : Path to The **converted** folder \n",
    "* **save_path**  : Path to save the processed data\n",
    "* **split_test** : %of test data  "
   ]
  },
  {
   "cell_type": "code",
   "execution_count": 1,
   "metadata": {},
   "outputs": [],
   "source": [
    "data_path=\"/media/ansary/DriveData/Work/bengalAI/datasets/__raw__/converted/\"\n",
    "save_path=\"/media/ansary/DriveData/Work/bengalAI/datasets/Recognition/\"\n",
    "split_test=20"
   ]
  },
  {
   "cell_type": "code",
   "execution_count": 2,
   "metadata": {},
   "outputs": [],
   "source": [
    "import sys\n",
    "sys.path.append('../')\n",
    "#--------------------\n",
    "# imports\n",
    "#--------------------\n",
    "import os \n",
    "import json\n",
    "import cv2\n",
    "import numpy as np\n",
    "import pandas as pd \n",
    "import string\n",
    "import random\n",
    "from glob import glob\n",
    "from tqdm.auto import tqdm\n",
    "from coreLib.utils import stripPads,LOG_INFO,GraphemeParser,create_dir\n",
    "tqdm.pandas()\n",
    "random.seed(42)"
   ]
  },
  {
   "cell_type": "code",
   "execution_count": 3,
   "metadata": {},
   "outputs": [],
   "source": [
    "#--------------------\n",
    "# GLOBALS\n",
    "#--------------------\n",
    "# symbols to avoid \n",
    "SYMBOLS=list(string.ascii_letters)\n",
    "SYMBOLS+=[str(i) for i in range(10)]\n",
    "GP=GraphemeParser()\n",
    "#--------------------------------images2words------------------------------------------------------------\n",
    "#--------------------\n",
    "# helper functions\n",
    "#--------------------\n",
    "\n",
    "def extract_word_images_and_labels(img_path):\n",
    "    '''\n",
    "        extracts word images and labels from a given image\n",
    "        args:\n",
    "            img_path : path of the image\n",
    "        returns:\n",
    "            (images,labels)\n",
    "            list of images and labels\n",
    "    '''\n",
    "    imgs=[]\n",
    "    labels=[]\n",
    "    # json_path\n",
    "    json_path=img_path.replace(\"jpg\",\"json\")\n",
    "    # read image\n",
    "    data=cv2.imread(img_path,0)\n",
    "    # label\n",
    "    label_json = json.load(open(json_path,'r'))\n",
    "    # get word idx\n",
    "    for idx in range(len(label_json['shapes'])):\n",
    "        # label\n",
    "        label=str(label_json['shapes'][idx]['label'])\n",
    "        # special charecter negation\n",
    "        if not any(substring in label for substring in SYMBOLS):\n",
    "            labels.append(label)\n",
    "            # crop bbox\n",
    "            xy=label_json['shapes'][idx]['points']\n",
    "            # crop points\n",
    "            x1 = int(np.round(xy[0][0]))\n",
    "            y1 = int(np.round(xy[0][1]))\n",
    "            x2 = int(np.round(xy[1][0]))\n",
    "            y2 = int(np.round(xy[1][1]))\n",
    "            # image\n",
    "            img=data[y1:y2,x1:x2]\n",
    "            imgs.append(img)\n",
    "    return imgs,labels"
   ]
  },
  {
   "cell_type": "code",
   "execution_count": 4,
   "metadata": {},
   "outputs": [
    {
     "name": "stdout",
     "output_type": "stream",
     "text": [
      "\u001b[32m#LOG     :\u001b[0m\u001b[34m/media/ansary/DriveData/Work/bengalAI/datasets/Recognition/bw/images\u001b[0m\n"
     ]
    },
    {
     "data": {
      "application/vnd.jupyter.widget-view+json": {
       "model_id": "e8546135934c48829b2c1462ba4d0406",
       "version_major": 2,
       "version_minor": 0
      },
      "text/plain": [
       "  0%|          | 0/260 [00:00<?, ?it/s]"
      ]
     },
     "metadata": {},
     "output_type": "display_data"
    },
    {
     "name": "stdout",
     "output_type": "stream",
     "text": [
      "\u001b[32m#LOG     :\u001b[0m\u001b[31merror in creating image:/media/ansary/DriveData/Work/bengalAI/datasets/__raw__/converted/183_16_0.jpg label:শ্রেষ্ঠ,error:OpenCV(4.5.1) /tmp/pip-req-build-ms668fyv/opencv/modules/imgproc/src/smooth.dispatch.cpp:617: error: (-215:Assertion failed) !_src.empty() in function 'GaussianBlur'\n",
      "\u001b[0m\n",
      "\u001b[32m#LOG     :\u001b[0m\u001b[31merror in creating image:/media/ansary/DriveData/Work/bengalAI/datasets/__raw__/converted/128_16_1.jpg label:*,error:OpenCV(4.5.1) /tmp/pip-req-build-ms668fyv/opencv/modules/imgproc/src/smooth.dispatch.cpp:617: error: (-215:Assertion failed) !_src.empty() in function 'GaussianBlur'\n",
      "\u001b[0m\n",
      "\u001b[32m#LOG     :\u001b[0m\u001b[31merror in creating image:/media/ansary/DriveData/Work/bengalAI/datasets/__raw__/converted/68_12_0.jpg label:*,error:OpenCV(4.5.1) /tmp/pip-req-build-ms668fyv/opencv/modules/imgproc/src/smooth.dispatch.cpp:617: error: (-215:Assertion failed) !_src.empty() in function 'GaussianBlur'\n",
      "\u001b[0m\n",
      "\u001b[32m#LOG     :\u001b[0m\u001b[31merror in creating image:/media/ansary/DriveData/Work/bengalAI/datasets/__raw__/converted/256_14_1.jpg label:ব,error:OpenCV(4.5.1) /tmp/pip-req-build-ms668fyv/opencv/modules/imgproc/src/smooth.dispatch.cpp:617: error: (-215:Assertion failed) !_src.empty() in function 'GaussianBlur'\n",
      "\u001b[0m\n",
      "\u001b[32m#LOG     :\u001b[0m\u001b[31merror in creating image:/media/ansary/DriveData/Work/bengalAI/datasets/__raw__/converted/234_17_1.jpg label:*,error:OpenCV(4.5.1) /tmp/pip-req-build-ms668fyv/opencv/modules/imgproc/src/smooth.dispatch.cpp:617: error: (-215:Assertion failed) !_src.empty() in function 'GaussianBlur'\n",
      "\u001b[0m\n",
      "\u001b[32m#LOG     :\u001b[0m\u001b[31merror in creating image:/media/ansary/DriveData/Work/bengalAI/datasets/__raw__/converted/234_17_1.jpg label:*,error:OpenCV(4.5.1) /tmp/pip-req-build-ms668fyv/opencv/modules/imgproc/src/smooth.dispatch.cpp:617: error: (-215:Assertion failed) !_src.empty() in function 'GaussianBlur'\n",
      "\u001b[0m\n",
      "\u001b[32m#LOG     :\u001b[0m\u001b[31merror in creating image:/media/ansary/DriveData/Work/bengalAI/datasets/__raw__/converted/234_17_1.jpg label:*,error:OpenCV(4.5.1) /tmp/pip-req-build-ms668fyv/opencv/modules/imgproc/src/smooth.dispatch.cpp:617: error: (-215:Assertion failed) !_src.empty() in function 'GaussianBlur'\n",
      "\u001b[0m\n",
      "\u001b[32m#LOG     :\u001b[0m\u001b[31merror in creating image:/media/ansary/DriveData/Work/bengalAI/datasets/__raw__/converted/234_17_1.jpg label:*,error:OpenCV(4.5.1) /tmp/pip-req-build-ms668fyv/opencv/modules/imgproc/src/smooth.dispatch.cpp:617: error: (-215:Assertion failed) !_src.empty() in function 'GaussianBlur'\n",
      "\u001b[0m\n",
      "\u001b[32m#LOG     :\u001b[0m\u001b[31merror in creating image:/media/ansary/DriveData/Work/bengalAI/datasets/__raw__/converted/80_14_0.jpg label:*,error:OpenCV(4.5.1) /tmp/pip-req-build-ms668fyv/opencv/modules/imgproc/src/smooth.dispatch.cpp:617: error: (-215:Assertion failed) !_src.empty() in function 'GaussianBlur'\n",
      "\u001b[0m\n",
      "\u001b[32m#LOG     :\u001b[0m\u001b[31merror in creating image:/media/ansary/DriveData/Work/bengalAI/datasets/__raw__/converted/126_17_0.jpg label:*,error:OpenCV(4.5.1) /tmp/pip-req-build-ms668fyv/opencv/modules/imgproc/src/smooth.dispatch.cpp:617: error: (-215:Assertion failed) !_src.empty() in function 'GaussianBlur'\n",
      "\u001b[0m\n",
      "\u001b[32m#LOG     :\u001b[0m\u001b[31merror in creating image:/media/ansary/DriveData/Work/bengalAI/datasets/__raw__/converted/126_17_0.jpg label:*,error:OpenCV(4.5.1) /tmp/pip-req-build-ms668fyv/opencv/modules/imgproc/src/smooth.dispatch.cpp:617: error: (-215:Assertion failed) !_src.empty() in function 'GaussianBlur'\n",
      "\u001b[0m\n",
      "\u001b[32m#LOG     :\u001b[0m\u001b[31merror in creating image:/media/ansary/DriveData/Work/bengalAI/datasets/__raw__/converted/126_17_0.jpg label:*,error:OpenCV(4.5.1) /tmp/pip-req-build-ms668fyv/opencv/modules/imgproc/src/smooth.dispatch.cpp:617: error: (-215:Assertion failed) !_src.empty() in function 'GaussianBlur'\n",
      "\u001b[0m\n",
      "\u001b[32m#LOG     :\u001b[0m\u001b[31merror in creating image:/media/ansary/DriveData/Work/bengalAI/datasets/__raw__/converted/231_14_1.jpg label:*,error:OpenCV(4.5.1) /tmp/pip-req-build-ms668fyv/opencv/modules/imgproc/src/smooth.dispatch.cpp:617: error: (-215:Assertion failed) !_src.empty() in function 'GaussianBlur'\n",
      "\u001b[0m\n"
     ]
    }
   ],
   "source": [
    "img_idens=[]\n",
    "img_labels=[]\n",
    "src=[]\n",
    "i=0\n",
    "main_path=create_dir(save_path,\"bw\")\n",
    "save_path=create_dir(main_path,\"images\")\n",
    "LOG_INFO(save_path)\n",
    "# get image paths\n",
    "img_paths=[img_path for img_path in glob(os.path.join(data_path,\"*.jpg\"))]\n",
    "# iterate\n",
    "for img_path in tqdm(img_paths):\n",
    "    # extract images and labels\n",
    "    imgs,labels=extract_word_images_and_labels(img_path)\n",
    "    if len(imgs)>0:\n",
    "        for img,label in zip(imgs,labels):\n",
    "            try:\n",
    "\n",
    "                # thresh\n",
    "                blur = cv2.GaussianBlur(img,(5,5),0)\n",
    "                _,img = cv2.threshold(blur,0,255,cv2.THRESH_BINARY+cv2.THRESH_OTSU)\n",
    "                img=stripPads(img,255)\n",
    "                img_save_path=os.path.join(save_path,f\"{i}.png\")\n",
    "                # save\n",
    "                cv2.imwrite(img_save_path,img)\n",
    "                # append\n",
    "                img_idens.append(f\"{i}.png\")\n",
    "                img_labels.append(label)\n",
    "                src.append(os.path.basename(img_path))\n",
    "                i=i+1\n",
    "\n",
    "            except Exception as e: \n",
    "                LOG_INFO(f\"error in creating image:{img_path} label:{label},error:{e}\",mcolor='red')\n"
   ]
  },
  {
   "cell_type": "code",
   "execution_count": 5,
   "metadata": {},
   "outputs": [
    {
     "data": {
      "application/vnd.jupyter.widget-view+json": {
       "model_id": "5ecbb53c09d64f40aa9de9c27387142a",
       "version_major": 2,
       "version_minor": 0
      },
      "text/plain": [
       "  0%|          | 0/21195 [00:00<?, ?it/s]"
      ]
     },
     "metadata": {},
     "output_type": "display_data"
    },
    {
     "data": {
      "application/vnd.jupyter.widget-view+json": {
       "model_id": "d0026a7b515d47bcbf25e7ca2cc55bc6",
       "version_major": 2,
       "version_minor": 0
      },
      "text/plain": [
       "  0%|          | 0/21195 [00:00<?, ?it/s]"
      ]
     },
     "metadata": {},
     "output_type": "display_data"
    },
    {
     "data": {
      "text/html": [
       "<div>\n",
       "<style scoped>\n",
       "    .dataframe tbody tr th:only-of-type {\n",
       "        vertical-align: middle;\n",
       "    }\n",
       "\n",
       "    .dataframe tbody tr th {\n",
       "        vertical-align: top;\n",
       "    }\n",
       "\n",
       "    .dataframe thead th {\n",
       "        text-align: right;\n",
       "    }\n",
       "</style>\n",
       "<table border=\"1\" class=\"dataframe\">\n",
       "  <thead>\n",
       "    <tr style=\"text-align: right;\">\n",
       "      <th></th>\n",
       "      <th>filename</th>\n",
       "      <th>word</th>\n",
       "      <th>graphemes</th>\n",
       "      <th>mode</th>\n",
       "    </tr>\n",
       "  </thead>\n",
       "  <tbody>\n",
       "    <tr>\n",
       "      <th>0</th>\n",
       "      <td>0.png</td>\n",
       "      <td>ইচ্ছে</td>\n",
       "      <td>[ই, চ্ছে]</td>\n",
       "      <td>train</td>\n",
       "    </tr>\n",
       "    <tr>\n",
       "      <th>1</th>\n",
       "      <td>1.png</td>\n",
       "      <td>জাগে</td>\n",
       "      <td>[জা, গে]</td>\n",
       "      <td>train</td>\n",
       "    </tr>\n",
       "    <tr>\n",
       "      <th>2</th>\n",
       "      <td>2.png</td>\n",
       "      <td>আকাশ</td>\n",
       "      <td>[আ, কা, শ]</td>\n",
       "      <td>train</td>\n",
       "    </tr>\n",
       "    <tr>\n",
       "      <th>3</th>\n",
       "      <td>3.png</td>\n",
       "      <td>প্রাণে</td>\n",
       "      <td>[প্রা, ণে]</td>\n",
       "      <td>train</td>\n",
       "    </tr>\n",
       "    <tr>\n",
       "      <th>4</th>\n",
       "      <td>4.png</td>\n",
       "      <td>*</td>\n",
       "      <td>[*]</td>\n",
       "      <td>train</td>\n",
       "    </tr>\n",
       "    <tr>\n",
       "      <th>...</th>\n",
       "      <td>...</td>\n",
       "      <td>...</td>\n",
       "      <td>...</td>\n",
       "      <td>...</td>\n",
       "    </tr>\n",
       "    <tr>\n",
       "      <th>21190</th>\n",
       "      <td>21190.png</td>\n",
       "      <td>সম্মান</td>\n",
       "      <td>[স, ম্মা, ন]</td>\n",
       "      <td>train</td>\n",
       "    </tr>\n",
       "    <tr>\n",
       "      <th>21191</th>\n",
       "      <td>21191.png</td>\n",
       "      <td>করা</td>\n",
       "      <td>[ক, রা]</td>\n",
       "      <td>train</td>\n",
       "    </tr>\n",
       "    <tr>\n",
       "      <th>21192</th>\n",
       "      <td>21192.png</td>\n",
       "      <td>আমাদের</td>\n",
       "      <td>[আ, মা, দে, র]</td>\n",
       "      <td>train</td>\n",
       "    </tr>\n",
       "    <tr>\n",
       "      <th>21193</th>\n",
       "      <td>21193.png</td>\n",
       "      <td>কর্তব্য</td>\n",
       "      <td>[ক, র্ত, ব্য]</td>\n",
       "      <td>train</td>\n",
       "    </tr>\n",
       "    <tr>\n",
       "      <th>21194</th>\n",
       "      <td>21194.png</td>\n",
       "      <td>।</td>\n",
       "      <td>[।]</td>\n",
       "      <td>train</td>\n",
       "    </tr>\n",
       "  </tbody>\n",
       "</table>\n",
       "<p>21195 rows × 4 columns</p>\n",
       "</div>"
      ],
      "text/plain": [
       "        filename     word       graphemes   mode\n",
       "0          0.png    ইচ্ছে       [ই, চ্ছে]  train\n",
       "1          1.png     জাগে        [জা, গে]  train\n",
       "2          2.png     আকাশ      [আ, কা, শ]  train\n",
       "3          3.png   প্রাণে      [প্রা, ণে]  train\n",
       "4          4.png        *             [*]  train\n",
       "...          ...      ...             ...    ...\n",
       "21190  21190.png   সম্মান    [স, ম্মা, ন]  train\n",
       "21191  21191.png      করা         [ক, রা]  train\n",
       "21192  21192.png   আমাদের  [আ, মা, দে, র]  train\n",
       "21193  21193.png  কর্তব্য   [ক, র্ত, ব্য]  train\n",
       "21194  21194.png        ।             [।]  train\n",
       "\n",
       "[21195 rows x 4 columns]"
      ]
     },
     "execution_count": 5,
     "metadata": {},
     "output_type": "execute_result"
    }
   ],
   "source": [
    "# dataframe\n",
    "df              =   pd.DataFrame({\"filename\":img_idens,\"word\":img_labels,\"src\":src})\n",
    "# graphemes\n",
    "df[\"graphemes\"] =   df.word.progress_apply(lambda x:GP.word2grapheme(x))\n",
    "df.dropna(inplace=True)\n",
    "\n",
    "# test train split\n",
    "srcs=list(df.src.unique())\n",
    "random.shuffle(srcs)\n",
    "eval_len=int(len(srcs)*split_test/100)\n",
    "eval_srcs=srcs[:eval_len]\n",
    "df[\"mode\"]=df.src.progress_apply(lambda x: \"test\" if x in eval_srcs else \"train\")\n",
    "\n",
    "\n",
    "\n",
    "df=df[[\"filename\",\"word\",\"graphemes\",\"mode\"]]\n",
    "df"
   ]
  },
  {
   "cell_type": "code",
   "execution_count": 6,
   "metadata": {},
   "outputs": [],
   "source": [
    "df.to_csv(os.path.join(main_path,\"data.csv\"),index=False)"
   ]
  },
  {
   "cell_type": "code",
   "execution_count": 7,
   "metadata": {},
   "outputs": [
    {
     "name": "stdout",
     "output_type": "stream",
     "text": [
      "\u001b[32m#LOG     :\u001b[0m\u001b[31mIMPORTANT: PATH TO USE FOR tools/process.py:/media/ansary/DriveData/Work/bengalAI/datasets/Recognition/bw\u001b[0m\n"
     ]
    }
   ],
   "source": [
    "LOG_INFO(f\"IMPORTANT: PATH TO USE FOR tools/process.py:{main_path}\",\"red\")"
   ]
  },
  {
   "cell_type": "code",
   "execution_count": null,
   "metadata": {},
   "outputs": [],
   "source": []
  }
 ],
 "metadata": {
  "kernelspec": {
   "display_name": "bangla",
   "language": "python",
   "name": "bangla"
  },
  "language_info": {
   "codemirror_mode": {
    "name": "ipython",
    "version": 3
   },
   "file_extension": ".py",
   "mimetype": "text/x-python",
   "name": "python",
   "nbconvert_exporter": "python",
   "pygments_lexer": "ipython3",
   "version": "3.8.5"
  }
 },
 "nbformat": 4,
 "nbformat_minor": 4
}
